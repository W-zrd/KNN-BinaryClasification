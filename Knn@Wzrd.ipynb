{
 "cells": [
  {
   "cell_type": "markdown",
   "id": "6a17902d-2e21-48e9-85b3-c1ef13892b77",
   "metadata": {},
   "source": [
    "# Informasi Dataset"
   ]
  },
  {
   "cell_type": "markdown",
   "id": "68110b09-0f3f-4166-a539-cd62cdb62748",
   "metadata": {},
   "source": [
    "## Import Libraries"
   ]
  },
  {
   "cell_type": "code",
   "execution_count": 54,
   "id": "7ac25d1e-4fd9-429e-b06c-f40a2aa72226",
   "metadata": {},
   "outputs": [],
   "source": [
    "# Exploratory Data Analysis\n",
    "import pandas as pd\n",
    "import numpy as np\n",
    "\n",
    "# Scikit Learn Machine Learning\n",
    "from sklearn.neighbors import KNeighborsClassifier\n",
    "from sklearn.model_selection import train_test_split, KFold\n",
    "from sklearn.metrics import confusion_matrix, ConfusionMatrixDisplay\n",
    "\n",
    "# Save model\n",
    "import joblib"
   ]
  },
  {
   "cell_type": "markdown",
   "id": "a26debd5-ae6b-4454-bd8a-849e3f67d389",
   "metadata": {},
   "source": [
    "## Membaca Data Training"
   ]
  },
  {
   "cell_type": "code",
   "execution_count": 55,
   "id": "1b29cd1e-8a56-45d8-bb66-21bbd79da973",
   "metadata": {},
   "outputs": [
    {
     "data": {
      "text/html": [
       "<div>\n",
       "<style scoped>\n",
       "    .dataframe tbody tr th:only-of-type {\n",
       "        vertical-align: middle;\n",
       "    }\n",
       "\n",
       "    .dataframe tbody tr th {\n",
       "        vertical-align: top;\n",
       "    }\n",
       "\n",
       "    .dataframe thead th {\n",
       "        text-align: right;\n",
       "    }\n",
       "</style>\n",
       "<table border=\"1\" class=\"dataframe\">\n",
       "  <thead>\n",
       "    <tr style=\"text-align: right;\">\n",
       "      <th></th>\n",
       "      <th>id</th>\n",
       "      <th>x1</th>\n",
       "      <th>x2</th>\n",
       "      <th>x3</th>\n",
       "      <th>y</th>\n",
       "    </tr>\n",
       "  </thead>\n",
       "  <tbody>\n",
       "    <tr>\n",
       "      <th>133</th>\n",
       "      <td>134</td>\n",
       "      <td>58</td>\n",
       "      <td>61</td>\n",
       "      <td>1</td>\n",
       "      <td>1</td>\n",
       "    </tr>\n",
       "    <tr>\n",
       "      <th>265</th>\n",
       "      <td>266</td>\n",
       "      <td>52</td>\n",
       "      <td>60</td>\n",
       "      <td>4</td>\n",
       "      <td>1</td>\n",
       "    </tr>\n",
       "    <tr>\n",
       "      <th>167</th>\n",
       "      <td>168</td>\n",
       "      <td>69</td>\n",
       "      <td>66</td>\n",
       "      <td>0</td>\n",
       "      <td>1</td>\n",
       "    </tr>\n",
       "    <tr>\n",
       "      <th>90</th>\n",
       "      <td>91</td>\n",
       "      <td>61</td>\n",
       "      <td>59</td>\n",
       "      <td>0</td>\n",
       "      <td>1</td>\n",
       "    </tr>\n",
       "    <tr>\n",
       "      <th>261</th>\n",
       "      <td>262</td>\n",
       "      <td>30</td>\n",
       "      <td>64</td>\n",
       "      <td>1</td>\n",
       "      <td>1</td>\n",
       "    </tr>\n",
       "  </tbody>\n",
       "</table>\n",
       "</div>"
      ],
      "text/plain": [
       "      id  x1  x2  x3  y\n",
       "133  134  58  61   1  1\n",
       "265  266  52  60   4  1\n",
       "167  168  69  66   0  1\n",
       "90    91  61  59   0  1\n",
       "261  262  30  64   1  1"
      ]
     },
     "execution_count": 55,
     "metadata": {},
     "output_type": "execute_result"
    }
   ],
   "source": [
    "# Import Dataset\n",
    "df = pd.read_excel('traintest.xlsx', sheet_name=\"train\")\n",
    "df.sample(5)"
   ]
  },
  {
   "cell_type": "code",
   "execution_count": 56,
   "id": "9a8c273c-16b7-4fc8-8181-a118a962dbec",
   "metadata": {},
   "outputs": [
    {
     "data": {
      "text/html": [
       "<div>\n",
       "<style scoped>\n",
       "    .dataframe tbody tr th:only-of-type {\n",
       "        vertical-align: middle;\n",
       "    }\n",
       "\n",
       "    .dataframe tbody tr th {\n",
       "        vertical-align: top;\n",
       "    }\n",
       "\n",
       "    .dataframe thead th {\n",
       "        text-align: right;\n",
       "    }\n",
       "</style>\n",
       "<table border=\"1\" class=\"dataframe\">\n",
       "  <thead>\n",
       "    <tr style=\"text-align: right;\">\n",
       "      <th></th>\n",
       "      <th>id</th>\n",
       "      <th>x1</th>\n",
       "      <th>x2</th>\n",
       "      <th>x3</th>\n",
       "      <th>y</th>\n",
       "    </tr>\n",
       "  </thead>\n",
       "  <tbody>\n",
       "    <tr>\n",
       "      <th>count</th>\n",
       "      <td>296.000000</td>\n",
       "      <td>296.000000</td>\n",
       "      <td>296.000000</td>\n",
       "      <td>296.000000</td>\n",
       "      <td>296.000000</td>\n",
       "    </tr>\n",
       "    <tr>\n",
       "      <th>mean</th>\n",
       "      <td>148.500000</td>\n",
       "      <td>52.462838</td>\n",
       "      <td>62.881757</td>\n",
       "      <td>4.111486</td>\n",
       "      <td>0.736486</td>\n",
       "    </tr>\n",
       "    <tr>\n",
       "      <th>std</th>\n",
       "      <td>85.592056</td>\n",
       "      <td>10.896367</td>\n",
       "      <td>3.233753</td>\n",
       "      <td>7.291816</td>\n",
       "      <td>0.441285</td>\n",
       "    </tr>\n",
       "    <tr>\n",
       "      <th>min</th>\n",
       "      <td>1.000000</td>\n",
       "      <td>30.000000</td>\n",
       "      <td>58.000000</td>\n",
       "      <td>0.000000</td>\n",
       "      <td>0.000000</td>\n",
       "    </tr>\n",
       "    <tr>\n",
       "      <th>25%</th>\n",
       "      <td>74.750000</td>\n",
       "      <td>44.000000</td>\n",
       "      <td>60.000000</td>\n",
       "      <td>0.000000</td>\n",
       "      <td>0.000000</td>\n",
       "    </tr>\n",
       "    <tr>\n",
       "      <th>50%</th>\n",
       "      <td>148.500000</td>\n",
       "      <td>52.000000</td>\n",
       "      <td>63.000000</td>\n",
       "      <td>1.000000</td>\n",
       "      <td>1.000000</td>\n",
       "    </tr>\n",
       "    <tr>\n",
       "      <th>75%</th>\n",
       "      <td>222.250000</td>\n",
       "      <td>61.000000</td>\n",
       "      <td>65.250000</td>\n",
       "      <td>5.000000</td>\n",
       "      <td>1.000000</td>\n",
       "    </tr>\n",
       "    <tr>\n",
       "      <th>max</th>\n",
       "      <td>296.000000</td>\n",
       "      <td>83.000000</td>\n",
       "      <td>69.000000</td>\n",
       "      <td>52.000000</td>\n",
       "      <td>1.000000</td>\n",
       "    </tr>\n",
       "  </tbody>\n",
       "</table>\n",
       "</div>"
      ],
      "text/plain": [
       "               id          x1          x2          x3           y\n",
       "count  296.000000  296.000000  296.000000  296.000000  296.000000\n",
       "mean   148.500000   52.462838   62.881757    4.111486    0.736486\n",
       "std     85.592056   10.896367    3.233753    7.291816    0.441285\n",
       "min      1.000000   30.000000   58.000000    0.000000    0.000000\n",
       "25%     74.750000   44.000000   60.000000    0.000000    0.000000\n",
       "50%    148.500000   52.000000   63.000000    1.000000    1.000000\n",
       "75%    222.250000   61.000000   65.250000    5.000000    1.000000\n",
       "max    296.000000   83.000000   69.000000   52.000000    1.000000"
      ]
     },
     "execution_count": 56,
     "metadata": {},
     "output_type": "execute_result"
    }
   ],
   "source": [
    "# General Info Dataset\n",
    "df.describe()"
   ]
  },
  {
   "cell_type": "code",
   "execution_count": 57,
   "id": "c918361a-b76a-4a54-856d-dd0ce96f39a4",
   "metadata": {},
   "outputs": [
    {
     "data": {
      "text/plain": [
       "(296, 5)"
      ]
     },
     "execution_count": 57,
     "metadata": {},
     "output_type": "execute_result"
    }
   ],
   "source": [
    "df.shape"
   ]
  },
  {
   "cell_type": "markdown",
   "id": "12ee8dd7-981f-4724-96b3-6119117f932c",
   "metadata": {},
   "source": [
    "## Exploratory Data Analysis"
   ]
  },
  {
   "cell_type": "code",
   "execution_count": 58,
   "id": "c8792e34-a4be-43d7-a0cc-83d91bf1336a",
   "metadata": {},
   "outputs": [
    {
     "data": {
      "text/plain": [
       "id    0\n",
       "x1    0\n",
       "x2    0\n",
       "x3    0\n",
       "y     0\n",
       "dtype: int64"
      ]
     },
     "execution_count": 58,
     "metadata": {},
     "output_type": "execute_result"
    }
   ],
   "source": [
    "df.isna().sum()"
   ]
  },
  {
   "cell_type": "code",
   "execution_count": 59,
   "id": "b8724ebe-6051-444a-b723-79b10e2a1dba",
   "metadata": {},
   "outputs": [
    {
     "data": {
      "image/png": "[encoded data removed]",
      "text/plain": [
       "<Figure size 432x288 with 1 Axes>"
      ]
     },
     "metadata": {
      "needs_background": "light"
     },
     "output_type": "display_data"
    }
   ],
   "source": [
    "df[\"y\"].value_counts().plot(kind=\"bar\", color=[\"salmon\", \"lightblue\"]);"
   ]
  },
  {
   "cell_type": "code",
   "execution_count": 60,
   "id": "a843eb0c-bfbf-41bf-b15c-9c4afa9cfa1c",
   "metadata": {},
   "outputs": [
    {
     "data": {
      "text/plain": [
       "<AxesSubplot:>"
      ]
     },
     "execution_count": 60,
     "metadata": {},
     "output_type": "execute_result"
    },
    {
     "data": {
      "image/png": "[encoded data removed]",
      "text/plain": [
       "<Figure size 432x288 with 1 Axes>"
      ]
     },
     "metadata": {
      "needs_background": "light"
     },
     "output_type": "display_data"
    }
   ],
   "source": [
    "df.x3.plot(kind='box')"
   ]
  },
  {
   "cell_type": "code",
   "execution_count": 61,
   "id": "ed033460-65e2-4ac5-b673-8acd2201b0b6",
   "metadata": {},
   "outputs": [
    {
     "data": {
      "text/html": [
       "<div>\n",
       "<style scoped>\n",
       "    .dataframe tbody tr th:only-of-type {\n",
       "        vertical-align: middle;\n",
       "    }\n",
       "\n",
       "    .dataframe tbody tr th {\n",
       "        vertical-align: top;\n",
       "    }\n",
       "\n",
       "    .dataframe thead th {\n",
       "        text-align: right;\n",
       "    }\n",
       "</style>\n",
       "<table border=\"1\" class=\"dataframe\">\n",
       "  <thead>\n",
       "    <tr style=\"text-align: right;\">\n",
       "      <th></th>\n",
       "      <th>id</th>\n",
       "      <th>x1</th>\n",
       "      <th>x2</th>\n",
       "      <th>x3</th>\n",
       "      <th>y</th>\n",
       "    </tr>\n",
       "  </thead>\n",
       "  <tbody>\n",
       "    <tr>\n",
       "      <th>77</th>\n",
       "      <td>78</td>\n",
       "      <td>43</td>\n",
       "      <td>58</td>\n",
       "      <td>52</td>\n",
       "      <td>0</td>\n",
       "    </tr>\n",
       "    <tr>\n",
       "      <th>129</th>\n",
       "      <td>130</td>\n",
       "      <td>59</td>\n",
       "      <td>62</td>\n",
       "      <td>35</td>\n",
       "      <td>0</td>\n",
       "    </tr>\n",
       "    <tr>\n",
       "      <th>169</th>\n",
       "      <td>170</td>\n",
       "      <td>34</td>\n",
       "      <td>58</td>\n",
       "      <td>30</td>\n",
       "      <td>1</td>\n",
       "    </tr>\n",
       "    <tr>\n",
       "      <th>200</th>\n",
       "      <td>201</td>\n",
       "      <td>63</td>\n",
       "      <td>61</td>\n",
       "      <td>28</td>\n",
       "      <td>1</td>\n",
       "    </tr>\n",
       "    <tr>\n",
       "      <th>201</th>\n",
       "      <td>202</td>\n",
       "      <td>54</td>\n",
       "      <td>67</td>\n",
       "      <td>46</td>\n",
       "      <td>1</td>\n",
       "    </tr>\n",
       "  </tbody>\n",
       "</table>\n",
       "</div>"
      ],
      "text/plain": [
       "      id  x1  x2  x3  y\n",
       "77    78  43  58  52  0\n",
       "129  130  59  62  35  0\n",
       "169  170  34  58  30  1\n",
       "200  201  63  61  28  1\n",
       "201  202  54  67  46  1"
      ]
     },
     "execution_count": 61,
     "metadata": {},
     "output_type": "execute_result"
    }
   ],
   "source": [
    "df[df.x3>26]"
   ]
  },
  {
   "cell_type": "code",
   "execution_count": 62,
   "id": "372a6bcb-a8af-42bb-a3bc-3550e13005dd",
   "metadata": {},
   "outputs": [],
   "source": [
    "df.drop([77,201,129],inplace=True)"
   ]
  },
  {
   "cell_type": "code",
   "execution_count": 63,
   "id": "610f6fe5-6928-4983-944b-9ca5474ee6ff",
   "metadata": {
    "scrolled": true
   },
   "outputs": [
    {
     "data": {
      "text/plain": [
       "<AxesSubplot:>"
      ]
     },
     "execution_count": 63,
     "metadata": {},
     "output_type": "execute_result"
    },
    {
     "data": {
      "image/png": "[encoded data removed]",
      "text/plain": [
       "<Figure size 432x288 with 1 Axes>"
      ]
     },
     "metadata": {
      "needs_background": "light"
     },
     "output_type": "display_data"
    }
   ],
   "source": [
    "df.x3.plot(kind='box')"
   ]
  },
  {
   "cell_type": "code",
   "execution_count": 64,
   "id": "139f9632-c246-444a-9b12-044a52a08b48",
   "metadata": {},
   "outputs": [
    {
     "data": {
      "text/plain": [
       "293"
      ]
     },
     "execution_count": 64,
     "metadata": {},
     "output_type": "execute_result"
    }
   ],
   "source": [
    "len(df.index)"
   ]
  },
  {
   "cell_type": "markdown",
   "id": "326c7c4a-e167-4dc4-9635-3bdaa6403dc7",
   "metadata": {},
   "source": [
    "# Modelling"
   ]
  },
  {
   "cell_type": "markdown",
   "id": "14376b02-276d-44dd-8941-bbb6b78d71aa",
   "metadata": {},
   "source": [
    "## Inisiasi Variabel"
   ]
  },
  {
   "cell_type": "code",
   "execution_count": 65,
   "id": "eb0f00dc-6077-493b-b301-30938975aa6e",
   "metadata": {},
   "outputs": [],
   "source": [
    "model = KNeighborsClassifier(metric='euclidean')\n",
    "X = df.drop(['y', 'id'], axis=1)\n",
    "y = df.y"
   ]
  },
  {
   "cell_type": "markdown",
   "id": "a9f79cee-c764-4447-bfea-ff465d9f3c66",
   "metadata": {},
   "source": [
    "## Normalisasi Data"
   ]
  },
  {
   "cell_type": "code",
   "execution_count": 66,
   "id": "5fdecdac-d72e-48f5-8a6a-f0db66a37f32",
   "metadata": {},
   "outputs": [],
   "source": [
    "class Normalize:\n",
    "    def __init__(self):\n",
    "        self.means_ = None\n",
    "        self.stds_ = None\n",
    "\n",
    "    def fit(self, X):\n",
    "        # Hitung rata-rata tiap fitur\n",
    "        self.means_ = X.mean()\n",
    "        self.stds_ = X.std()\n",
    "\n",
    "    def transform(self, X):\n",
    "        return (X - self.means_) / self.stds_\n",
    "\n",
    "    def fit_transform(self, X):\n",
    "        self.fit(X)\n",
    "        return self.transform(X)"
   ]
  },
  {
   "cell_type": "code",
   "execution_count": 67,
   "id": "1d4ad62f-4d95-4752-89c3-f50ff1f30ab2",
   "metadata": {},
   "outputs": [],
   "source": [
    "def preprocess_data(X_train, X_test):\n",
    "    scaler = Normalize()\n",
    "    X_train_scaled = scaler.fit_transform(X_train)\n",
    "    X_test_scaled = scaler.transform(X_test)\n",
    "    return X_train_scaled, X_test_scaled, scaler\n"
   ]
  },
  {
   "cell_type": "markdown",
   "id": "1dfba695-c037-4490-b85b-00dfd9886d79",
   "metadata": {},
   "source": [
    "## Training Model"
   ]
  },
  {
   "cell_type": "code",
   "execution_count": 68,
   "id": "f475b8f7-d0d5-4082-b973-20c3918448c3",
   "metadata": {},
   "outputs": [],
   "source": [
    "def train_model(X_train_scaled, y_train, n_neighbors=5):\n",
    "    model.set_params(n_neighbors=n_neighbors, metric=\"euclidean\")\n",
    "    model.fit(X_train_scaled, y_train)\n",
    "    return model\n",
    "\n",
    "def skor_akurasi(model, X_test_scaled, y_test):\n",
    "    y_pred = model.predict(X_test_scaled)\n",
    "    \n",
    "    correct_predictions = np.sum(y_pred == y_test)\n",
    "    total_samples = len(y_test)\n",
    "    accuracy = correct_predictions / total_samples\n",
    "\n",
    "    return accuracy\n"
   ]
  },
  {
   "cell_type": "markdown",
   "id": "9c6696d9-7618-4d6f-be90-80ab5d29b425",
   "metadata": {},
   "source": [
    "## Cross Validation"
   ]
  },
  {
   "cell_type": "code",
   "execution_count": 69,
   "id": "236c73c2-a9fc-47c0-8de8-347f3b6469a9",
   "metadata": {},
   "outputs": [],
   "source": [
    "def cross_validation(X, y, n_neighbors=5, n_splits=10):\n",
    "    model.set_params(n_neighbors=n_neighbors)\n",
    "    kf = KFold(n_splits=n_splits, shuffle=True, random_state=47)\n",
    "\n",
    "    accuracies = []\n",
    "    for train_index, test_index in kf.split(X):\n",
    "        # Handle warning, ignore this. cek apakah X = DataFrame ato numpy\n",
    "        if isinstance(X, pd.DataFrame):\n",
    "            X_train, X_test = X.iloc[train_index], X.iloc[test_index]\n",
    "        else:\n",
    "            X_train, X_test = X[train_index], X[test_index]\n",
    "\n",
    "        y_train, y_test = y.iloc[train_index], y.iloc[test_index]\n",
    "\n",
    "        X_train_scaled, X_test_scaled, _ = preprocess_data(X_train, X_test)\n",
    "        model.fit(X_train_scaled, y_train)\n",
    "\n",
    "        accuracies.append(skor_akurasi(model, X_test_scaled, y_test))\n",
    "\n",
    "    return np.mean(accuracies)\n"
   ]
  },
  {
   "cell_type": "markdown",
   "id": "a9b41c0b-47b5-4010-a70a-e0c0eb7ac18d",
   "metadata": {},
   "source": [
    "# Hyperparameter Tuning"
   ]
  },
  {
   "cell_type": "code",
   "execution_count": 70,
   "id": "deeb257d-1684-4d34-b631-0a40c874775a",
   "metadata": {},
   "outputs": [],
   "source": [
    "iterasi = range (1,11)\n",
    "def model_tuning(scoring_method):\n",
    "    train_scores = []\n",
    "    test_scores = []\n",
    "    \n",
    "    for i in iterasi:\n",
    "        model.set_params(n_neighbors=i, metric='euclidean')\n",
    "        model.fit(X_train_scaled, y_train)\n",
    "\n",
    "        if scoring_method == \"knn\":\n",
    "            train_scores.append(model.score(X_train_scaled, y_train))\n",
    "            test_scores.append(model.score(X_test_scaled, y_test))\n",
    "            # print(f\"K = {i},\\t Skor: {model.score(X_test_scaled, y_test)*100:.2f}%\")\n",
    "        elif scoring_method == \"cv\":\n",
    "            train_scores.append(cross_validation(X_train_scaled, y_train, i))\n",
    "            test_scores.append(cross_validation(X_test_scaled, y_test, i))\n",
    "            #print(f\"K = {i},\\t Skor: {cross_validation(X_train_scaled, y_train, i)*100:.2f}%\")\n",
    "    \n",
    "    return train_scores, test_scores\n"
   ]
  },
  {
   "cell_type": "markdown",
   "id": "2c5b31b3-7ac4-4fad-9ad4-69b4b770d041",
   "metadata": {},
   "source": [
    "# Evaluasi Model"
   ]
  },
  {
   "cell_type": "code",
   "execution_count": 71,
   "id": "ea609c19-80af-477d-8af3-c939167f77a4",
   "metadata": {},
   "outputs": [],
   "source": [
    "X_train, X_test, y_train, y_test = train_test_split(X, y, test_size=60, random_state=47)\n",
    "X_train_scaled, X_test_scaled, scaler = preprocess_data(X_train, X_test)\n",
    "\n",
    "# Train model\n",
    "model = train_model(X_train_scaled, y_train)\n",
    "\n",
    "train_score_accuracy, test_score_accuracy = model_tuning(\"knn\")\n",
    "train_score_cv, test_score_cv = model_tuning(\"cv\")"
   ]
  },
  {
   "cell_type": "markdown",
   "id": "1c9eb4a7-bde1-4317-b8e5-d6e864dc959e",
   "metadata": {},
   "source": [
    "## Perbandingan Skor Akurasi Training vs Testing Set"
   ]
  },
  {
   "cell_type": "code",
   "execution_count": 72,
   "id": "3788be12-7fdf-4f2f-8be0-82e75c9a1801",
   "metadata": {},
   "outputs": [
    {
     "data": {
      "text/html": [
       "<div>\n",
       "<style scoped>\n",
       "    .dataframe tbody tr th:only-of-type {\n",
       "        vertical-align: middle;\n",
       "    }\n",
       "\n",
       "    .dataframe tbody tr th {\n",
       "        vertical-align: top;\n",
       "    }\n",
       "\n",
       "    .dataframe thead th {\n",
       "        text-align: right;\n",
       "    }\n",
       "</style>\n",
       "<table border=\"1\" class=\"dataframe\">\n",
       "  <thead>\n",
       "    <tr style=\"text-align: right;\">\n",
       "      <th></th>\n",
       "      <th>K-Neighbors:</th>\n",
       "      <th>Training</th>\n",
       "      <th>Testing</th>\n",
       "    </tr>\n",
       "  </thead>\n",
       "  <tbody>\n",
       "    <tr>\n",
       "      <th>0</th>\n",
       "      <td>1</td>\n",
       "      <td>0.978541</td>\n",
       "      <td>0.683333</td>\n",
       "    </tr>\n",
       "    <tr>\n",
       "      <th>1</th>\n",
       "      <td>2</td>\n",
       "      <td>0.841202</td>\n",
       "      <td>0.616667</td>\n",
       "    </tr>\n",
       "    <tr>\n",
       "      <th>2</th>\n",
       "      <td>3</td>\n",
       "      <td>0.828326</td>\n",
       "      <td>0.716667</td>\n",
       "    </tr>\n",
       "    <tr>\n",
       "      <th>3</th>\n",
       "      <td>4</td>\n",
       "      <td>0.781116</td>\n",
       "      <td>0.683333</td>\n",
       "    </tr>\n",
       "    <tr>\n",
       "      <th>4</th>\n",
       "      <td>5</td>\n",
       "      <td>0.776824</td>\n",
       "      <td>0.733333</td>\n",
       "    </tr>\n",
       "    <tr>\n",
       "      <th>5</th>\n",
       "      <td>6</td>\n",
       "      <td>0.763948</td>\n",
       "      <td>0.750000</td>\n",
       "    </tr>\n",
       "    <tr>\n",
       "      <th>6</th>\n",
       "      <td>7</td>\n",
       "      <td>0.746781</td>\n",
       "      <td>0.750000</td>\n",
       "    </tr>\n",
       "    <tr>\n",
       "      <th>7</th>\n",
       "      <td>8</td>\n",
       "      <td>0.738197</td>\n",
       "      <td>0.733333</td>\n",
       "    </tr>\n",
       "    <tr>\n",
       "      <th>8</th>\n",
       "      <td>9</td>\n",
       "      <td>0.759657</td>\n",
       "      <td>0.816667</td>\n",
       "    </tr>\n",
       "    <tr>\n",
       "      <th>9</th>\n",
       "      <td>10</td>\n",
       "      <td>0.746781</td>\n",
       "      <td>0.766667</td>\n",
       "    </tr>\n",
       "  </tbody>\n",
       "</table>\n",
       "</div>"
      ],
      "text/plain": [
       "   K-Neighbors:  Training   Testing\n",
       "0             1  0.978541  0.683333\n",
       "1             2  0.841202  0.616667\n",
       "2             3  0.828326  0.716667\n",
       "3             4  0.781116  0.683333\n",
       "4             5  0.776824  0.733333\n",
       "5             6  0.763948  0.750000\n",
       "6             7  0.746781  0.750000\n",
       "7             8  0.738197  0.733333\n",
       "8             9  0.759657  0.816667\n",
       "9            10  0.746781  0.766667"
      ]
     },
     "execution_count": 72,
     "metadata": {},
     "output_type": "execute_result"
    }
   ],
   "source": [
    "compare1 = {\"K-Neighbors:\": [x for x in iterasi], \"Training\": [y for y in train_score_accuracy],\"Testing\": [z for z in test_score_accuracy]}\n",
    "compare1_display = pd.DataFrame(compare1)\n",
    "compare1_display"
   ]
  },
  {
   "cell_type": "code",
   "execution_count": null,
   "id": "c77c15ef-36c6-41cc-95a5-a8f12d399b81",
   "metadata": {},
   "outputs": [],
   "source": []
  },
  {
   "cell_type": "markdown",
   "id": "de7ed6c5-963d-4796-997d-2417cabcfa79",
   "metadata": {},
   "source": [
    "## Perbandingan Skor Testing Akurasi dan Cross Validation"
   ]
  },
  {
   "cell_type": "code",
   "execution_count": 73,
   "id": "b641c0ff-39e3-44dc-af7b-57fdc993c0b2",
   "metadata": {},
   "outputs": [
    {
     "data": {
      "text/html": [
       "<style type=\"text/css\">\n",
       "#T_2b384_row8_col0, #T_2b384_row8_col1, #T_2b384_row8_col2 {\n",
       "  background-color: black;\n",
       "  font-weight: bold;\n",
       "  color: #8BE9FD;\n",
       "}\n",
       "</style>\n",
       "<table id=\"T_2b384\">\n",
       "  <thead>\n",
       "    <tr>\n",
       "      <th class=\"blank level0\" >&nbsp;</th>\n",
       "      <th id=\"T_2b384_level0_col0\" class=\"col_heading level0 col0\" >K-Neighbors</th>\n",
       "      <th id=\"T_2b384_level0_col1\" class=\"col_heading level0 col1\" >Accuracy Score</th>\n",
       "      <th id=\"T_2b384_level0_col2\" class=\"col_heading level0 col2\" >Cross Validation Score</th>\n",
       "    </tr>\n",
       "  </thead>\n",
       "  <tbody>\n",
       "    <tr>\n",
       "      <th id=\"T_2b384_level0_row0\" class=\"row_heading level0 row0\" >0</th>\n",
       "      <td id=\"T_2b384_row0_col0\" class=\"data row0 col0\" >1</td>\n",
       "      <td id=\"T_2b384_row0_col1\" class=\"data row0 col1\" >0.683333</td>\n",
       "      <td id=\"T_2b384_row0_col2\" class=\"data row0 col2\" >0.766667</td>\n",
       "    </tr>\n",
       "    <tr>\n",
       "      <th id=\"T_2b384_level0_row1\" class=\"row_heading level0 row1\" >1</th>\n",
       "      <td id=\"T_2b384_row1_col0\" class=\"data row1 col0\" >2</td>\n",
       "      <td id=\"T_2b384_row1_col1\" class=\"data row1 col1\" >0.616667</td>\n",
       "      <td id=\"T_2b384_row1_col2\" class=\"data row1 col2\" >0.716667</td>\n",
       "    </tr>\n",
       "    <tr>\n",
       "      <th id=\"T_2b384_level0_row2\" class=\"row_heading level0 row2\" >2</th>\n",
       "      <td id=\"T_2b384_row2_col0\" class=\"data row2 col0\" >3</td>\n",
       "      <td id=\"T_2b384_row2_col1\" class=\"data row2 col1\" >0.716667</td>\n",
       "      <td id=\"T_2b384_row2_col2\" class=\"data row2 col2\" >0.783333</td>\n",
       "    </tr>\n",
       "    <tr>\n",
       "      <th id=\"T_2b384_level0_row3\" class=\"row_heading level0 row3\" >3</th>\n",
       "      <td id=\"T_2b384_row3_col0\" class=\"data row3 col0\" >4</td>\n",
       "      <td id=\"T_2b384_row3_col1\" class=\"data row3 col1\" >0.683333</td>\n",
       "      <td id=\"T_2b384_row3_col2\" class=\"data row3 col2\" >0.766667</td>\n",
       "    </tr>\n",
       "    <tr>\n",
       "      <th id=\"T_2b384_level0_row4\" class=\"row_heading level0 row4\" >4</th>\n",
       "      <td id=\"T_2b384_row4_col0\" class=\"data row4 col0\" >5</td>\n",
       "      <td id=\"T_2b384_row4_col1\" class=\"data row4 col1\" >0.733333</td>\n",
       "      <td id=\"T_2b384_row4_col2\" class=\"data row4 col2\" >0.766667</td>\n",
       "    </tr>\n",
       "    <tr>\n",
       "      <th id=\"T_2b384_level0_row5\" class=\"row_heading level0 row5\" >5</th>\n",
       "      <td id=\"T_2b384_row5_col0\" class=\"data row5 col0\" >6</td>\n",
       "      <td id=\"T_2b384_row5_col1\" class=\"data row5 col1\" >0.750000</td>\n",
       "      <td id=\"T_2b384_row5_col2\" class=\"data row5 col2\" >0.766667</td>\n",
       "    </tr>\n",
       "    <tr>\n",
       "      <th id=\"T_2b384_level0_row6\" class=\"row_heading level0 row6\" >6</th>\n",
       "      <td id=\"T_2b384_row6_col0\" class=\"data row6 col0\" >7</td>\n",
       "      <td id=\"T_2b384_row6_col1\" class=\"data row6 col1\" >0.750000</td>\n",
       "      <td id=\"T_2b384_row6_col2\" class=\"data row6 col2\" >0.783333</td>\n",
       "    </tr>\n",
       "    <tr>\n",
       "      <th id=\"T_2b384_level0_row7\" class=\"row_heading level0 row7\" >7</th>\n",
       "      <td id=\"T_2b384_row7_col0\" class=\"data row7 col0\" >8</td>\n",
       "      <td id=\"T_2b384_row7_col1\" class=\"data row7 col1\" >0.733333</td>\n",
       "      <td id=\"T_2b384_row7_col2\" class=\"data row7 col2\" >0.766667</td>\n",
       "    </tr>\n",
       "    <tr>\n",
       "      <th id=\"T_2b384_level0_row8\" class=\"row_heading level0 row8\" >8</th>\n",
       "      <td id=\"T_2b384_row8_col0\" class=\"data row8 col0\" >9</td>\n",
       "      <td id=\"T_2b384_row8_col1\" class=\"data row8 col1\" >0.816667</td>\n",
       "      <td id=\"T_2b384_row8_col2\" class=\"data row8 col2\" >0.800000</td>\n",
       "    </tr>\n",
       "    <tr>\n",
       "      <th id=\"T_2b384_level0_row9\" class=\"row_heading level0 row9\" >9</th>\n",
       "      <td id=\"T_2b384_row9_col0\" class=\"data row9 col0\" >10</td>\n",
       "      <td id=\"T_2b384_row9_col1\" class=\"data row9 col1\" >0.766667</td>\n",
       "      <td id=\"T_2b384_row9_col2\" class=\"data row9 col2\" >0.783333</td>\n",
       "    </tr>\n",
       "  </tbody>\n",
       "</table>\n"
      ],
      "text/plain": [
       "<pandas.io.formats.style.Styler at 0x7f42462aa4a0>"
      ]
     },
     "execution_count": 73,
     "metadata": {},
     "output_type": "execute_result"
    }
   ],
   "source": [
    "compare2 = {'K-Neighbors':[x for x in iterasi], 'Accuracy Score': test_score_accuracy, 'Cross Validation Score': test_score_cv}\n",
    "wizz = pd.DataFrame(compare2)\n",
    "\n",
    "# Highlight row dengan skor akurasi yang paling tinggi\n",
    "maks = (wizz['Accuracy Score'] == wizz['Accuracy Score'].max())\n",
    "\n",
    "# Apply style ke DataFrame\n",
    "compare2_display = wizz.style.apply(lambda x: ['background-color: black; font-weight: bold; color: #8BE9FD' if v else '' for v in x], subset=pd.IndexSlice[maks, :])\n",
    "compare2_display\n"
   ]
  },
  {
   "cell_type": "markdown",
   "id": "33894548-9206-4075-8473-b2d8ca5fb040",
   "metadata": {},
   "source": [
    "## Summary Report"
   ]
  },
  {
   "cell_type": "code",
   "execution_count": 74,
   "id": "824e5007-c67d-428d-a469-51ca6551f857",
   "metadata": {},
   "outputs": [],
   "source": [
    "get_highest_result = wizz[wizz[\"Accuracy Score\"] == wizz[\"Accuracy Score\"].max()].iloc[0][\"K-Neighbors\"]\n",
    "highest_result = get_highest_result.astype(int)"
   ]
  },
  {
   "cell_type": "code",
   "execution_count": 75,
   "id": "d45e3626-ed8c-4de3-a2ed-81744eb1e926",
   "metadata": {},
   "outputs": [
    {
     "name": "stdout",
     "output_type": "stream",
     "text": [
      "Accuracy: 0.8166666666666667\n",
      "Cross Validation:  0.8\n"
     ]
    },
    {
     "data": {
      "image/png": "[encoded data removed]",
      "text/plain": [
       "<Figure size 432x288 with 2 Axes>"
      ]
     },
     "metadata": {
      "needs_background": "light"
     },
     "output_type": "display_data"
    }
   ],
   "source": [
    "X_train, X_test, y_train, y_test = train_test_split(X, y, test_size=60, random_state=47)\n",
    "X_train_scaled, X_test_scaled, scaler = preprocess_data(X_train, X_test)\n",
    "\n",
    "# Train model\n",
    "model = train_model(X_train_scaled, y_train, highest_result)\n",
    "\n",
    "# Evaluate model\n",
    "accuracy = skor_akurasi(model, X_test_scaled, y_test)\n",
    "print(\"Accuracy:\", accuracy)\n",
    "print(\"Cross Validation: \", cross_validation(X_test_scaled, y_test, highest_result))\n",
    "\n",
    "# Display confusion matrix\n",
    "cm = confusion_matrix(y_test, model.predict(X_test_scaled), labels=[0, 1])\n",
    "disp = ConfusionMatrixDisplay(confusion_matrix=cm)\n",
    "disp.plot();\n"
   ]
  },
  {
   "cell_type": "markdown",
   "id": "c66786a3-1e97-454b-89e0-28e5ed952476",
   "metadata": {},
   "source": [
    "# Pengujian Model pada Dataset Testing"
   ]
  },
  {
   "cell_type": "markdown",
   "id": "624a9805-8f3e-4588-bba9-93e9a0f89315",
   "metadata": {},
   "source": [
    "## Menyimpan Model"
   ]
  },
  {
   "cell_type": "code",
   "execution_count": 76,
   "id": "b2cc92d1-ecda-408c-aeb3-ced76d479aff",
   "metadata": {},
   "outputs": [],
   "source": [
    "def saveNload_model(model, file_path='Results/KNN.joblib'):\n",
    "    # Save model dgn akurasi terbaik\n",
    "    idx = model_tuning(\"knn\")[1].index(max(model_tuning(\"knn\")[1])) + 1\n",
    "    knn_optimized = model.set_params(n_neighbors=idx)\n",
    "    joblib.dump(knn_optimized, file_path)\n",
    "    return joblib.load(file_path)"
   ]
  },
  {
   "cell_type": "code",
   "execution_count": 77,
   "id": "ef7fe26e-e90e-405a-8430-a5b3f2e6991c",
   "metadata": {},
   "outputs": [],
   "source": [
    "model = saveNload_model(model)"
   ]
  },
  {
   "cell_type": "markdown",
   "id": "7cc3eefe-bfa9-41ff-91f3-823a6bf2298c",
   "metadata": {},
   "source": [
    "## Menguji Model"
   ]
  },
  {
   "cell_type": "code",
   "execution_count": 78,
   "id": "9837424d-0839-4517-af55-63889c8626e7",
   "metadata": {},
   "outputs": [],
   "source": [
    "def test_model(model, test_data):\n",
    "    X_test_data = test_data[['x1', 'x2', 'x3']]\n",
    "\n",
    "    predictions = model.predict(X_test_data)\n",
    "    return predictions"
   ]
  },
  {
   "cell_type": "code",
   "execution_count": 79,
   "id": "255c06a9-98b5-40bf-927e-e297d896b294",
   "metadata": {
    "scrolled": true
   },
   "outputs": [],
   "source": [
    "test_data = pd.read_excel('traintest.xlsx', sheet_name='test')\n",
    "final_result = test_model(model, test_data)"
   ]
  },
  {
   "cell_type": "markdown",
   "id": "12ce5d81-1141-4180-9d0c-e4cdcdf10b2d",
   "metadata": {},
   "source": [
    "## Menyimpan Hasil Prediksi ke Excel"
   ]
  },
  {
   "cell_type": "code",
   "execution_count": 80,
   "id": "ff52c51b-0c03-4149-8b00-2b72f5263d16",
   "metadata": {},
   "outputs": [
    {
     "data": {
      "text/html": [
       "<div>\n",
       "<style scoped>\n",
       "    .dataframe tbody tr th:only-of-type {\n",
       "        vertical-align: middle;\n",
       "    }\n",
       "\n",
       "    .dataframe tbody tr th {\n",
       "        vertical-align: top;\n",
       "    }\n",
       "\n",
       "    .dataframe thead th {\n",
       "        text-align: right;\n",
       "    }\n",
       "</style>\n",
       "<table border=\"1\" class=\"dataframe\">\n",
       "  <thead>\n",
       "    <tr style=\"text-align: right;\">\n",
       "      <th></th>\n",
       "      <th>id</th>\n",
       "      <th>x1</th>\n",
       "      <th>x2</th>\n",
       "      <th>x3</th>\n",
       "      <th>y</th>\n",
       "    </tr>\n",
       "  </thead>\n",
       "  <tbody>\n",
       "    <tr>\n",
       "      <th>0</th>\n",
       "      <td>297</td>\n",
       "      <td>43</td>\n",
       "      <td>59</td>\n",
       "      <td>2</td>\n",
       "      <td>1</td>\n",
       "    </tr>\n",
       "    <tr>\n",
       "      <th>1</th>\n",
       "      <td>298</td>\n",
       "      <td>67</td>\n",
       "      <td>66</td>\n",
       "      <td>0</td>\n",
       "      <td>1</td>\n",
       "    </tr>\n",
       "    <tr>\n",
       "      <th>2</th>\n",
       "      <td>299</td>\n",
       "      <td>58</td>\n",
       "      <td>60</td>\n",
       "      <td>3</td>\n",
       "      <td>1</td>\n",
       "    </tr>\n",
       "    <tr>\n",
       "      <th>3</th>\n",
       "      <td>300</td>\n",
       "      <td>49</td>\n",
       "      <td>63</td>\n",
       "      <td>3</td>\n",
       "      <td>1</td>\n",
       "    </tr>\n",
       "    <tr>\n",
       "      <th>4</th>\n",
       "      <td>301</td>\n",
       "      <td>45</td>\n",
       "      <td>60</td>\n",
       "      <td>0</td>\n",
       "      <td>1</td>\n",
       "    </tr>\n",
       "    <tr>\n",
       "      <th>5</th>\n",
       "      <td>302</td>\n",
       "      <td>54</td>\n",
       "      <td>58</td>\n",
       "      <td>1</td>\n",
       "      <td>1</td>\n",
       "    </tr>\n",
       "    <tr>\n",
       "      <th>6</th>\n",
       "      <td>303</td>\n",
       "      <td>56</td>\n",
       "      <td>66</td>\n",
       "      <td>3</td>\n",
       "      <td>1</td>\n",
       "    </tr>\n",
       "    <tr>\n",
       "      <th>7</th>\n",
       "      <td>304</td>\n",
       "      <td>42</td>\n",
       "      <td>69</td>\n",
       "      <td>1</td>\n",
       "      <td>1</td>\n",
       "    </tr>\n",
       "    <tr>\n",
       "      <th>8</th>\n",
       "      <td>305</td>\n",
       "      <td>50</td>\n",
       "      <td>59</td>\n",
       "      <td>2</td>\n",
       "      <td>1</td>\n",
       "    </tr>\n",
       "    <tr>\n",
       "      <th>9</th>\n",
       "      <td>306</td>\n",
       "      <td>59</td>\n",
       "      <td>60</td>\n",
       "      <td>0</td>\n",
       "      <td>1</td>\n",
       "    </tr>\n",
       "  </tbody>\n",
       "</table>\n",
       "</div>"
      ],
      "text/plain": [
       "    id  x1  x2  x3  y\n",
       "0  297  43  59   2  1\n",
       "1  298  67  66   0  1\n",
       "2  299  58  60   3  1\n",
       "3  300  49  63   3  1\n",
       "4  301  45  60   0  1\n",
       "5  302  54  58   1  1\n",
       "6  303  56  66   3  1\n",
       "7  304  42  69   1  1\n",
       "8  305  50  59   2  1\n",
       "9  306  59  60   0  1"
      ]
     },
     "execution_count": 80,
     "metadata": {},
     "output_type": "execute_result"
    }
   ],
   "source": [
    "save_this = pd.DataFrame({\n",
    "                \"id\": [id for id in test_data.id],\n",
    "                \"x1\": [x1 for x1 in test_data.x1],\n",
    "                \"x2\": [x2 for x2 in test_data.x2],\n",
    "                \"x3\": [x3 for x3 in test_data.x3],\n",
    "                \"y\": final_result\n",
    "            })\n",
    "\n",
    "save_this"
   ]
  },
  {
   "cell_type": "code",
   "execution_count": 81,
   "id": "736f0157-e482-43ea-b2a5-75f883a38007",
   "metadata": {},
   "outputs": [],
   "source": [
    "save_this.to_excel('Results/result.xlsx', index=False)"
   ]
  },
  {
   "cell_type": "code",
   "execution_count": null,
   "id": "1c9b1468-baaf-465e-b76a-8e5ac7b7057b",
   "metadata": {},
   "outputs": [],
   "source": []
  }
 ],
 "metadata": {
  "kernelspec": {
   "display_name": "Python 3 (ipykernel)",
   "language": "python",
   "name": "python3"
  },
  "language_info": {
   "codemirror_mode": {
    "name": "ipython",
    "version": 3
   },
   "file_extension": ".py",
   "mimetype": "text/x-python",
   "name": "python",
   "nbconvert_exporter": "python",
   "pygments_lexer": "ipython3",
   "version": "3.10.12"
  }
 },
 "nbformat": 4,
 "nbformat_minor": 5
}
